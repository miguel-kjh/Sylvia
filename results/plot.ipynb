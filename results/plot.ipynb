{
 "cells": [
  {
   "cell_type": "code",
   "execution_count": 5,
   "metadata": {},
   "outputs": [],
   "source": [
    "import json\n",
    "import matplotlib.pyplot as plt"
   ]
  },
  {
   "cell_type": "code",
   "execution_count": 16,
   "metadata": {},
   "outputs": [
    {
     "ename": "AttributeError",
     "evalue": "'list' object has no attribute 'keys'",
     "output_type": "error",
     "traceback": [
      "\u001b[1;31m---------------------------------------------------------------------------\u001b[0m",
      "\u001b[1;31mAttributeError\u001b[0m                            Traceback (most recent call last)",
      "\u001b[1;32m<ipython-input-16-3fe73b214230>\u001b[0m in \u001b[0;36m<module>\u001b[1;34m\u001b[0m\n\u001b[0;32m      2\u001b[0m \u001b[1;32mwith\u001b[0m \u001b[0mopen\u001b[0m\u001b[1;33m(\u001b[0m\u001b[0mfilename\u001b[0m\u001b[1;33m)\u001b[0m \u001b[1;32mas\u001b[0m \u001b[0mf\u001b[0m\u001b[1;33m:\u001b[0m\u001b[1;33m\u001b[0m\u001b[1;33m\u001b[0m\u001b[0m\n\u001b[0;32m      3\u001b[0m     \u001b[0mdatastore\u001b[0m \u001b[1;33m=\u001b[0m \u001b[0mjson\u001b[0m\u001b[1;33m.\u001b[0m\u001b[0mload\u001b[0m\u001b[1;33m(\u001b[0m\u001b[0mf\u001b[0m\u001b[1;33m)\u001b[0m\u001b[1;33m\u001b[0m\u001b[1;33m\u001b[0m\u001b[0m\n\u001b[1;32m----> 4\u001b[1;33m \u001b[0mprint\u001b[0m\u001b[1;33m(\u001b[0m\u001b[0mdatastore\u001b[0m\u001b[1;33m.\u001b[0m\u001b[0mkeys\u001b[0m\u001b[1;33m(\u001b[0m\u001b[1;33m)\u001b[0m\u001b[1;33m)\u001b[0m\u001b[1;33m\u001b[0m\u001b[1;33m\u001b[0m\u001b[0m\n\u001b[0m",
      "\u001b[1;31mAttributeError\u001b[0m: 'list' object has no attribute 'keys'"
     ]
    }
   ],
   "source": [
    "filename = \"intent_errors.json\"\n",
    "with open(filename) as f:\n",
    "    datastore = json.load(f)\n",
    "print(datastore)"
   ]
  },
  {
   "cell_type": "code",
   "execution_count": 21,
   "metadata": {},
   "outputs": [],
   "source": [
    "def getDataValue(selectKey:str, datastore:dict) -> list:\n",
    "    try:\n",
    "        return [datastore[key][selectKey] for key in datastore.keys()]\n",
    "    except Exception:\n",
    "        print(\"Any Exception\")\n",
    "        return None\n",
    "\n",
    "def getListaDataValue(selectKey:str, datastore:dict) -> list:\n",
    "    return [element[selectKey] for element in datastore]"
   ]
  },
  {
   "cell_type": "code",
   "execution_count": 25,
   "metadata": {},
   "outputs": [
    {
     "name": "stdout",
     "output_type": "stream",
     "text": "[{'name': 'give_otp', 'confidence': 0.273593932390213}, {'name': 'choose_comprehensive_insurance', 'confidence': 0.22369228303432465}, {'name': 'choose_comprehensive_insurance', 'confidence': 0.22369228303432465}, {'name': 'give_otp', 'confidence': 0.273593932390213}, {'name': 'choose_comprehensive_insurance', 'confidence': 0.22369228303432465}, {'name': 'give_otp', 'confidence': 0.273593932390213}, {'name': 'choose_comprehensive_insurance', 'confidence': 0.22369228303432465}, {'name': 'give_otp', 'confidence': 0.273593932390213}, {'name': 'give_otp', 'confidence': 0.273593932390213}, {'name': 'choose_comprehensive_insurance', 'confidence': 0.22369228303432465}, {'name': 'give_otp', 'confidence': 0.273593932390213}, {'name': 'choose_comprehensive_insurance', 'confidence': 0.22369228303432465}, {'name': 'give_otp', 'confidence': 0.273593932390213}, {'name': 'give_otp', 'confidence': 0.273593932390213}, {'name': 'give_otp', 'confidence': 0.273593932390213}, {'name': 'give_otp', 'confidence': 0.273593932390213}, {'name': 'greet', 'confidence': 0.7734134793281555}, {'name': 'greet', 'confidence': 0.7986230850219727}]\n"
    }
   ],
   "source": [
    "precision = getListaDataValue('intent_prediction',datastore)\n",
    "print(precision)\n",
    "#if precision != None:\n",
    "    #plt.bar(range(len(datastore.keys())), precision)"
   ]
  },
  {
   "cell_type": "code",
   "execution_count": null,
   "metadata": {},
   "outputs": [],
   "source": []
  }
 ],
 "metadata": {
  "kernelspec": {
   "display_name": "Python 3",
   "language": "python",
   "name": "python3"
  },
  "language_info": {
   "codemirror_mode": {
    "name": "ipython",
    "version": 3
   },
   "file_extension": ".py",
   "mimetype": "text/x-python",
   "name": "python",
   "nbconvert_exporter": "python",
   "pygments_lexer": "ipython3",
   "version": "3.6.8-final"
  }
 },
 "nbformat": 4,
 "nbformat_minor": 4
}